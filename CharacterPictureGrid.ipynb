{
 "cells": [
  {
   "cell_type": "code",
   "execution_count": 1,
   "id": "cb9b3e97-e8a4-46cc-98ba-2644e5e49d67",
   "metadata": {},
   "outputs": [
    {
     "name": "stdout",
     "output_type": "stream",
     "text": [
      "..OO.OO..\n",
      ".OOOOOOO.\n",
      ".OOOOOOO.\n",
      "..OOOOO..\n",
      "...OOO...\n",
      "....O....\n"
     ]
    }
   ],
   "source": [
    "#Manasa. M. C\n",
    "#USN:1AY24BT028\n",
    "#Section:N\n",
    "# Character Picture Grid\n",
    "grid = [['.', '.', '.', '.', '.', '.'],\n",
    "        ['.', 'O', 'O', '.', '.', '.'],\n",
    "        ['O', 'O', 'O', 'O', '.', '.'],\n",
    "        ['O', 'O', 'O', 'O', 'O', '.'],\n",
    "        ['.', 'O', 'O', 'O', 'O', 'O'],\n",
    "        ['O', 'O', 'O', 'O', 'O', '.'],\n",
    "        ['O', 'O', 'O', 'O', '.', '.'],\n",
    "        ['.', 'O', 'O', '.', '.', '.'],\n",
    "        ['.', '.', '.', '.', '.', '.']]\n",
    "\n",
    "# Loop through columns (x-axis)\n",
    "for y in range(len(grid[0])):  # grid[0] has 6 columns\n",
    "    for x in range(len(grid)):  # grid has 9 rows\n",
    "        print(grid[x][y], end='')\n",
    "    print()  # Newline after each row is printed"
   ]
  },
  {
   "cell_type": "code",
   "execution_count": null,
   "id": "ffc7d57f-cdc6-4777-b582-8b5d722146b7",
   "metadata": {},
   "outputs": [],
   "source": []
  }
 ],
 "metadata": {
  "kernelspec": {
   "display_name": "Python [conda env:base] *",
   "language": "python",
   "name": "conda-base-py"
  },
  "language_info": {
   "codemirror_mode": {
    "name": "ipython",
    "version": 3
   },
   "file_extension": ".py",
   "mimetype": "text/x-python",
   "name": "python",
   "nbconvert_exporter": "python",
   "pygments_lexer": "ipython3",
   "version": "3.13.5"
  }
 },
 "nbformat": 4,
 "nbformat_minor": 5
}
