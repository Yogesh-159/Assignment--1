{
 "cells": [
  {
   "cell_type": "code",
   "execution_count": 1,
   "id": "d9591ca1-fca3-4633-918e-970a9f54f2d8",
   "metadata": {},
   "outputs": [
    {
     "name": "stdout",
     "output_type": "stream",
     "text": [
      "apples, bananas, tofu, and cats\n",
      "\n",
      "apple\n",
      "apple, and banana\n"
     ]
    }
   ],
   "source": [
    "#Manasa. M. C\n",
    "#USN:1AY24BT028\n",
    "#Section:N\n",
    "def comma_code(lst):\n",
    "    \"\"\"\n",
    "    This function takes a list of strings as input and returns a string \n",
    "    with all items separated by commas and a space, with 'and' before the last item.\n",
    "\n",
    "    Args:\n",
    "        lst (list): A list of strings.\n",
    "\n",
    "    Returns:\n",
    "        str: A formatted string with commas and 'and' before the last item.\n",
    "    \"\"\"\n",
    "    if len(lst) == 0:\n",
    "        return ''\n",
    "    elif len(lst) == 1:\n",
    "        return lst[0]\n",
    "    else:\n",
    "        return ', '.join(lst[:-1]) + ', and ' + lst[-1]\n",
    "\n",
    "# Example usage:\n",
    "spam = ['apples', 'bananas', 'tofu', 'cats']\n",
    "print(comma_code(spam))  # Output: apples, bananas, tofu, and cats\n",
    "\n",
    "# Test case for an empty list:\n",
    "print(comma_code([]))  # Output: ''\n",
    "\n",
    "# Test case for a list with one item:\n",
    "print(comma_code(['apple']))  # Output: apple\n",
    "\n",
    "# Test case for a list with two items:\n",
    "print(comma_code(['apple', 'banana']))  # Output: apple, and banana\n"
   ]
  },
  {
   "cell_type": "code",
   "execution_count": null,
   "id": "3304226a-d9b4-4841-9a24-4ac15ff6a8f3",
   "metadata": {},
   "outputs": [],
   "source": []
  }
 ],
 "metadata": {
  "kernelspec": {
   "display_name": "Python [conda env:base] *",
   "language": "python",
   "name": "conda-base-py"
  },
  "language_info": {
   "codemirror_mode": {
    "name": "ipython",
    "version": 3
   },
   "file_extension": ".py",
   "mimetype": "text/x-python",
   "name": "python",
   "nbconvert_exporter": "python",
   "pygments_lexer": "ipython3",
   "version": "3.13.5"
  }
 },
 "nbformat": 4,
 "nbformat_minor": 5
}
