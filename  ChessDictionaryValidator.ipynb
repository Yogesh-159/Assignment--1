{
 "cells": [
  {
   "cell_type": "code",
   "execution_count": 1,
   "id": "59520036-44f5-4062-b40d-ef6942e15829",
   "metadata": {},
   "outputs": [
    {
     "name": "stdout",
     "output_type": "stream",
     "text": [
      "Is board valid? False\n"
     ]
    }
   ],
   "source": [
    "#Manasa. M. C\n",
    "#USN:1AY24BT028\n",
    "#Section:N\n",
    "def isValidChessBoard(board):\n",
    "    piece_count = {}\n",
    "    white_king = black_king = 0\n",
    "\n",
    "    valid_files = 'abcdefgh'\n",
    "    valid_ranks = '12345678'\n",
    "    valid_positions = [f + r for f in valid_files for r in valid_ranks]\n",
    "    valid_pieces = ['pawn', 'knight', 'bishop', 'rook', 'queen', 'king']\n",
    "\n",
    "    for position, piece in board.items():\n",
    "        # Check for valid board position\n",
    "        if position not in valid_positions:\n",
    "            return False\n",
    "\n",
    "        # Check valid piece format\n",
    "        if len(piece) < 2 or piece[0] not in 'wb' or piece[1:] not in valid_pieces:\n",
    "            return False\n",
    "\n",
    "        # Count each piece type\n",
    "        piece_count[piece] = piece_count.get(piece, 0) + 1\n",
    "\n",
    "        # Count kings\n",
    "        if piece == 'wking':\n",
    "            white_king += 1\n",
    "        elif piece == 'bking':\n",
    "            black_king += 1\n",
    "\n",
    "    # Check for exactly one white and black king\n",
    "    if white_king != 1 or black_king != 1:\n",
    "        return False\n",
    "\n",
    "    # Total pieces for each player\n",
    "    white_pieces = sum(count for piece, count in piece_count.items() if piece.startswith('w'))\n",
    "    black_pieces = sum(count for piece, count in piece_count.items() if piece.startswith('b'))\n",
    "\n",
    "    if white_pieces > 16 or black_pieces > 16:\n",
    "        return False\n",
    "\n",
    "    # Check for max 8 pawns per side\n",
    "    if piece_count.get('wpawn', 0) > 8 or piece_count.get('bpawn', 0) > 8:\n",
    "        return False\n",
    "\n",
    "    return True\n",
    "\n",
    "\n",
    "# Sample board dictionary\n",
    "chess_board = {\n",
    "    '1h': 'bking', '6c': 'wqueen', '2g': 'bbishop',\n",
    "    '5h': 'bqueen', '3e': 'wking', '4f': 'wpawn',\n",
    "    '2h': 'bpawn', '2a': 'bpawn', '7g': 'wpawn'\n",
    "}\n",
    "\n",
    "print(\"Is board valid?\", isValidChessBoard(chess_board))"
   ]
  },
  {
   "cell_type": "code",
   "execution_count": null,
   "id": "8a3aee9e-ef81-492f-a297-f4a0b3ca8032",
   "metadata": {},
   "outputs": [],
   "source": []
  }
 ],
 "metadata": {
  "kernelspec": {
   "display_name": "Python [conda env:base] *",
   "language": "python",
   "name": "conda-base-py"
  },
  "language_info": {
   "codemirror_mode": {
    "name": "ipython",
    "version": 3
   },
   "file_extension": ".py",
   "mimetype": "text/x-python",
   "name": "python",
   "nbconvert_exporter": "python",
   "pygments_lexer": "ipython3",
   "version": "3.13.5"
  }
 },
 "nbformat": 4,
 "nbformat_minor": 5
}
