{
 "cells": [
  {
   "cell_type": "code",
   "execution_count": 3,
   "id": "686a27b1-7ba8-4dc6-8e76-48cbe511cf47",
   "metadata": {},
   "outputs": [
    {
     "ename": "ModuleNotFoundError",
     "evalue": "No module named 'zombiedice'",
     "output_type": "error",
     "traceback": [
      "\u001b[1;31m---------------------------------------------------------------------------\u001b[0m",
      "\u001b[1;31mModuleNotFoundError\u001b[0m                       Traceback (most recent call last)",
      "Cell \u001b[1;32mIn[3], line 1\u001b[0m\n\u001b[1;32m----> 1\u001b[0m \u001b[38;5;28;01mimport\u001b[39;00m\u001b[38;5;250m \u001b[39m\u001b[38;5;21;01mzombiedice\u001b[39;00m\n\u001b[0;32m      3\u001b[0m \u001b[38;5;28;01mclass\u001b[39;00m\u001b[38;5;250m \u001b[39m\u001b[38;5;21;01mMyZombie\u001b[39;00m:\n\u001b[0;32m      4\u001b[0m     \u001b[38;5;28;01mdef\u001b[39;00m\u001b[38;5;250m \u001b[39m\u001b[38;5;21m__init__\u001b[39m(\u001b[38;5;28mself\u001b[39m, name):\n\u001b[0;32m      5\u001b[0m         \u001b[38;5;66;03m# All zombies must have a name:\u001b[39;00m\n",
      "\u001b[1;31mModuleNotFoundError\u001b[0m: No module named 'zombiedice'"
     ]
    }
   ],
   "source": [
    "#Manasa. M. C\n",
    "#USN:1AY24BT028\n",
    "#Section:N\n",
    "import zombiedice\n",
    "\n",
    "class MyZombie:\n",
    "    def __init__(self, name):\n",
    "        # All zombies must have a name:\n",
    "        self.name = name\n",
    "\n",
    "    def turn(self, gameState):\n",
    "        # gameState is a dict with info about the current state of the game.\n",
    "        # You can choose to ignore it in your code.\n",
    "\n",
    "        diceRollResults = zombiedice.roll() # first roll\n",
    "        # roll() returns a dictionary with keys 'brains', 'shotgun', and\n",
    "        # 'footsteps' with how many rolls of each type there were.\n",
    "        # The 'rolls' key is a list of (color, icon) tuples with the\n",
    "        # exact roll result information.\n",
    "        # Example of a roll() return value:\n",
    "        # {'brains': 1, 'footsteps': 1, 'shotgun': 1,\n",
    "        #  'rolls': [('yellow', 'brains'), ('red', 'footsteps'),\n",
    "        #            ('green', 'shotgun')]}\n",
    "\n",
    "        # REPLACE THIS ZOMBIE CODE WITH YOUR OWN:\n",
    "        brains = 0\n",
    "        while diceRollResults is not None:\n",
    "            brains += diceRollResults['brains']\n",
    "\n",
    "            if brains < 2:\n",
    "                diceRollResults = zombiedice.roll() # roll again\n",
    "            else:\n",
    "                break\n",
    "\n",
    "zombies = (\n",
    "    zombiedice.examples.RandomCoinFlipZombie(name='Random'),\n",
    "    zombiedice.examples.RollsUntilInTheLeadZombie(name='Until Leading'),\n",
    "    zombiedice.examples.MinNumShotgunsThenStopsZombie(name='Stop at 2Shotguns', minShotguns=2),\n",
    "    zombiedice.examples.MinNumShotgunsThenStopsZombie(name='Stop at 1Shotgun', minShotguns=1),\n",
    "    MyZombie(name='My Zombie Bot'),)\n",
    "    # Add any other zombie players here.\n",
    "\n",
    "# Uncomment one of the following lines to run in CLI or Web GUI mode:\n",
    "#zombiedice.runTournament(zombies=zombies, numGames=1000)\n",
    "zombiedice.runWebGui(zombies=zombies, numGames=1000)"
   ]
  },
  {
   "cell_type": "code",
   "execution_count": null,
   "id": "659f536f-7444-4c81-b2ec-f13d85c05ae1",
   "metadata": {},
   "outputs": [],
   "source": []
  }
 ],
 "metadata": {
  "kernelspec": {
   "display_name": "Python [conda env:base] *",
   "language": "python",
   "name": "conda-base-py"
  },
  "language_info": {
   "codemirror_mode": {
    "name": "ipython",
    "version": 3
   },
   "file_extension": ".py",
   "mimetype": "text/x-python",
   "name": "python",
   "nbconvert_exporter": "python",
   "pygments_lexer": "ipython3",
   "version": "3.13.5"
  }
 },
 "nbformat": 4,
 "nbformat_minor": 5
}
