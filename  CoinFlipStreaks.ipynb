{
 "cells": [
  {
   "cell_type": "code",
   "execution_count": 3,
   "id": "3575808d-0ad2-4cfe-ac8a-e1490a1b24be",
   "metadata": {},
   "outputs": [
    {
     "name": "stdout",
     "output_type": "stream",
     "text": [
      "Chance of streak: 80.53%\n"
     ]
    }
   ],
   "source": [
    "#Manasa. M. C\n",
    "#USN:1AY24BT028\n",
    "#Section:N\n",
    "import random\n",
    "\n",
    "numberOfStreaks = 0\n",
    "\n",
    "for experimentNumber in range(10000):\n",
    "    # Generate a list of 100 random 'H' or 'T' coin flips\n",
    "    coinFlips = []\n",
    "    for i in range(100):\n",
    "        flip = 'H' if random.randint(0, 1) == 1 else 'T'\n",
    "        coinFlips.append(flip)\n",
    "\n",
    "    # Check for streaks of 6 in a row\n",
    "    streakCount = 1\n",
    "    for i in range(1, len(coinFlips)):\n",
    "        if coinFlips[i] == coinFlips[i - 1]:\n",
    "            streakCount += 1\n",
    "            if streakCount == 6:\n",
    "                numberOfStreaks += 1\n",
    "                break  # Only count 1 streak per experiment\n",
    "        else:\n",
    "            streakCount = 1\n",
    "\n",
    "# Calculate and print the percentage\n",
    "print('Chance of streak: %.2f%%' % (numberOfStreaks / 10000 * 100))\n"
   ]
  },
  {
   "cell_type": "code",
   "execution_count": null,
   "id": "6a08fc95-ada4-470b-9b53-4c40fdaa4269",
   "metadata": {},
   "outputs": [],
   "source": []
  }
 ],
 "metadata": {
  "kernelspec": {
   "display_name": "Python [conda env:base] *",
   "language": "python",
   "name": "conda-base-py"
  },
  "language_info": {
   "codemirror_mode": {
    "name": "ipython",
    "version": 3
   },
   "file_extension": ".py",
   "mimetype": "text/x-python",
   "name": "python",
   "nbconvert_exporter": "python",
   "pygments_lexer": "ipython3",
   "version": "3.13.5"
  }
 },
 "nbformat": 4,
 "nbformat_minor": 5
}
