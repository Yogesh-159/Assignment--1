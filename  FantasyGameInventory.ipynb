{
 "cells": [
  {
   "cell_type": "code",
   "execution_count": 1,
   "id": "b31363c0-7f58-4e42-aa7c-1e25cb290ddb",
   "metadata": {},
   "outputs": [
    {
     "name": "stdout",
     "output_type": "stream",
     "text": [
      "Inventory:\n",
      "45 gold coin\n",
      "1 rope\n",
      "1 dagger\n",
      "1 ruby\n",
      "Total number of items: 48\n"
     ]
    }
   ],
   "source": [
    "#Manasa. M. C\n",
    "#USN:1AY24BT028\n",
    "#Section:N\n",
    "# inventory.py\n",
    "\n",
    "# Function to display the inventory\n",
    "def displayInventory(inventory):\n",
    "    print(\"Inventory:\")\n",
    "    item_total = 0\n",
    "    for item, count in inventory.items():\n",
    "        print(f\"{count} {item}\")\n",
    "        item_total += count\n",
    "    print(\"Total number of items: \" + str(item_total))\n",
    "\n",
    "\n",
    "# Function to add loot to the inventory\n",
    "def addToInventory(inventory, addedItems):\n",
    "    for item in addedItems:\n",
    "        if item in inventory:\n",
    "            inventory[item] += 1\n",
    "        else:\n",
    "            inventory[item] = 1\n",
    "    return inventory\n",
    "\n",
    "\n",
    "# Sample inventory and loot\n",
    "inv = {'gold coin': 42, 'rope': 1}\n",
    "dragonLoot = ['gold coin', 'dagger', 'gold coin', 'gold coin', 'ruby']\n",
    "\n",
    "# Update the inventory with the loot\n",
    "inv = addToInventory(inv, dragonLoot)\n",
    "\n",
    "# Display the updated inventory\n",
    "displayInventory(inv)"
   ]
  },
  {
   "cell_type": "code",
   "execution_count": null,
   "id": "516b5d10-9311-4bfa-9cee-c985ce7ca33b",
   "metadata": {},
   "outputs": [],
   "source": []
  }
 ],
 "metadata": {
  "kernelspec": {
   "display_name": "Python [conda env:base] *",
   "language": "python",
   "name": "conda-base-py"
  },
  "language_info": {
   "codemirror_mode": {
    "name": "ipython",
    "version": 3
   },
   "file_extension": ".py",
   "mimetype": "text/x-python",
   "name": "python",
   "nbconvert_exporter": "python",
   "pygments_lexer": "ipython3",
   "version": "3.13.5"
  }
 },
 "nbformat": 4,
 "nbformat_minor": 5
}
