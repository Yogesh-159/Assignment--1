{
 "cells": [
  {
   "cell_type": "code",
   "execution_count": 1,
   "id": "1e094cfd-1307-4736-8161-a313b3556a0d",
   "metadata": {},
   "outputs": [
    {
     "name": "stdin",
     "output_type": "stream",
     "text": [
      "Enter number:  2\n"
     ]
    },
    {
     "name": "stdout",
     "output_type": "stream",
     "text": [
      "1\n"
     ]
    }
   ],
   "source": [
    "#Manasa. M. C\n",
    "#USN:1AY24BT028\n",
    "#Section:N\n",
    "def collatz(number):\n",
    "    if number % 2 == 0:\n",
    "        result = number // 2\n",
    "    else:\n",
    "        result = 3 * number + 1\n",
    "    print(result)\n",
    "    return result\n",
    "\n",
    "try:\n",
    "    num = int(input(\"Enter number: \"))\n",
    "    while num != 1:\n",
    "        num = collatz(num)\n",
    "except ValueError:\n",
    "    print(\"Please enter a valid integer.\")"
   ]
  },
  {
   "cell_type": "code",
   "execution_count": null,
   "id": "d8ee09f9-db29-4391-9e3d-c719c506a4a0",
   "metadata": {},
   "outputs": [],
   "source": []
  }
 ],
 "metadata": {
  "kernelspec": {
   "display_name": "Python [conda env:base] *",
   "language": "python",
   "name": "conda-base-py"
  },
  "language_info": {
   "codemirror_mode": {
    "name": "ipython",
    "version": 3
   },
   "file_extension": ".py",
   "mimetype": "text/x-python",
   "name": "python",
   "nbconvert_exporter": "python",
   "pygments_lexer": "ipython3",
   "version": "3.13.5"
  }
 },
 "nbformat": 4,
 "nbformat_minor": 5
}
