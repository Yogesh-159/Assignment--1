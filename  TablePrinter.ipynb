{
 "cells": [
  {
   "cell_type": "code",
   "execution_count": 1,
   "id": "61326d04-3f70-41d5-b39b-4845811cdda1",
   "metadata": {},
   "outputs": [
    {
     "name": "stdout",
     "output_type": "stream",
     "text": [
      "  apples Alice  dogs \n",
      " oranges   Bob  cats \n",
      "cherries Carol moose \n",
      "  banana David goose \n"
     ]
    }
   ],
   "source": [
    "#Manasa. M. C\n",
    "#USN:1AY24BT028\n",
    "#Section:N\n",
    "# Table Printer - Displays a list of lists in a well-organized right-justified table\n",
    "\n",
    "def printTable(tableData):\n",
    "    # Calculate the number of columns\n",
    "    numCols = len(tableData)\n",
    "    numRows = len(tableData[0])\n",
    "\n",
    "    # Find the longest string in each column\n",
    "    colWidths = [0] * numCols\n",
    "    for i in range(numCols):\n",
    "        maxLen = 0\n",
    "        for item in tableData[i]:\n",
    "            if len(item) > maxLen:\n",
    "                maxLen = len(item)\n",
    "        colWidths[i] = maxLen\n",
    "\n",
    "    # Print each row with right-justified columns\n",
    "    for rowIndex in range(numRows):\n",
    "        for colIndex in range(numCols):\n",
    "            print(tableData[colIndex][rowIndex].rjust(colWidths[colIndex]), end=' ')\n",
    "        print()  # Newline after each row\n",
    "\n",
    "# Sample table data\n",
    "tableData = [['apples', 'oranges', 'cherries', 'banana'],\n",
    "             ['Alice', 'Bob', 'Carol', 'David'],\n",
    "             ['dogs', 'cats', 'moose', 'goose']]\n",
    "\n",
    "# Call the function to print the table\n",
    "printTable(tableData)"
   ]
  },
  {
   "cell_type": "code",
   "execution_count": null,
   "id": "80e8dca3-2f27-409f-aa90-8a7681197abd",
   "metadata": {},
   "outputs": [],
   "source": []
  }
 ],
 "metadata": {
  "kernelspec": {
   "display_name": "Python [conda env:base] *",
   "language": "python",
   "name": "conda-base-py"
  },
  "language_info": {
   "codemirror_mode": {
    "name": "ipython",
    "version": 3
   },
   "file_extension": ".py",
   "mimetype": "text/x-python",
   "name": "python",
   "nbconvert_exporter": "python",
   "pygments_lexer": "ipython3",
   "version": "3.13.5"
  }
 },
 "nbformat": 4,
 "nbformat_minor": 5
}
